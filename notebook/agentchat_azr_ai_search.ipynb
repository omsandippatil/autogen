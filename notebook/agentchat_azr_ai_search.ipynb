# Assistants with Azure Cognitive Search and Azure Identity

# Import required libraries
import json
import os
from typing import Dict, List
from dotenv import load_dotenv
from azure.identity import DefaultAzureCredential, AzureCliCredential
from azure.search.documents import SearchClient
import autogen
from autogen import AssistantAgent, UserProxyAgent, register_function

# Load environment variables
load_dotenv()
AZURE_SEARCH_SERVICE = os.getenv("AZURE_SEARCH_SERVICE")
AZURE_SEARCH_INDEX = os.getenv("AZURE_SEARCH_INDEX")
AZURE_SEARCH_KEY = os.getenv("AZURE_SEARCH_KEY")
AZURE_SEARCH_API_VERSION = os.getenv("AZURE_SEARCH_API_VERSION")
AZURE_SEARCH_SEMANTIC_CONFIG = os.getenv("AZURE_SEARCH_SEMANTIC_SEARCH_CONFIG")
AZURE_SEARCH_SERVICE_ENDPOINT = os.getenv("AZURE_SEARCH_SERVICE_ENDPOINT")

# Check Azure CLI installation
print("Checking Azure CLI installation...")
try:
    import subprocess
    subprocess.run(["az", "--version"], check=True)
    print("Azure CLI is installed and working.")
except Exception as e:
    print(f"Error: {e}. Please install Azure CLI.")

# Authenticate and create SearchClient
print("Authenticating with Azure...")
credential = AzureCliCredential()
endpoint = AZURE_SEARCH_SERVICE_ENDPOINT
client = SearchClient(endpoint=endpoint, index_name=AZURE_SEARCH_INDEX, credential=credential)

# Define search tool function
def search(query: str) -> List[Dict]:
    """
    Searches the Azure Cognitive Search index for the given query.
    Returns a list of dictionaries containing search results.
    """
    payload = json.dumps({
        "search": query,
        "vectorQueries": [{"kind": "text", "text": query, "k": 5, "fields": "vector"}],
        "queryType": "semantic",
        "semanticConfiguration": AZURE_SEARCH_SEMANTIC_CONFIG,
        "captions": "extractive",
        "answers": "extractive|count-3",
        "queryLanguage": "en-US",
    })

    response = list(client.search(payload))
    output = []
    for result in response:
        result.pop("titleVector", None)
        result.pop("contentVector", None)
        output.append(result)

    return output

# Configure assistant agent
config_list = autogen.config_list_from_json(env_or_file="OAI_CONFIG_LIST")
gpt4_config = {
    "cache_seed": 42,
    "temperature": 0,
    "config_list": config_list,
    "timeout": 120,
}

# Create assistant and user agents
cog_search = AssistantAgent(
    name="COGSearch",
    system_message="You are a helpful AI assistant. "
                   "You can help with Azure Cognitive Search. "
                   "Return 'TERMINATE' when the task is done.",
    llm_config=gpt4_config,
)

user_proxy = UserProxyAgent(
    name="User",
    llm_config=False,
    is_termination_msg=lambda msg: msg.get("content") is not None and "TERMINATE" in msg["content"],
    human_input_mode="NEVER",
)

# Register search tool with agents
register_function(
    search,
    caller=cog_search,
    executor=user_proxy,
    name="search",
    description="A tool for searching the Cognitive Search index",
)

# Initiate chat
async def main():
    with autogen.Cache.disk() as cache:
        await user_proxy.a_initiate_chat(
            cog_search,
            message="Search for 'What is Azure?' in the Cognitive Search index",
            cache=cache,
        )

if __name__ == "__main__":
    import asyncio
    asyncio.run(main())
