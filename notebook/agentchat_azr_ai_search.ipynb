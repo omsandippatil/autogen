{
 "import_statements": [
   "import json",
   "import os",
   "from typing import Dict, List",
   "from dotenv import load_dotenv",
   "from azure.identity import DefaultAzureCredential, AzureCliCredential",
   "from azure.search.documents import SearchClient",
   "import autogen",
   "from autogen import AssistantAgent, UserProxyAgent, register_function"
 ],
 "load_env_vars": {
   "load_dotenv": null,
   "env_vars": [
     {
       "name": "AZURE_SEARCH_SERVICE",
       "value": "os.getenv(\"AZURE_SEARCH_SERVICE\")"
     },
     {
       "name": "AZURE_SEARCH_INDEX",
       "value": "os.getenv(\"AZURE_SEARCH_INDEX\")"
     },
     {
       "name": "AZURE_SEARCH_KEY",
       "value": "os.getenv(\"AZURE_SEARCH_KEY\")"
     },
     {
       "name": "AZURE_SEARCH_API_VERSION",
       "value": "os.getenv(\"AZURE_SEARCH_API_VERSION\")"
     },
     {
       "name": "AZURE_SEARCH_SEMANTIC_CONFIG",
       "value": "os.getenv(\"AZURE_SEARCH_SEMANTIC_SEARCH_CONFIG\")"
     },
     {
       "name": "AZURE_SEARCH_SERVICE_ENDPOINT",
       "value": "os.getenv(\"AZURE_SEARCH_SERVICE_ENDPOINT\")"
     }
   ]
 },
 "check_azure_cli": {
   "print_statement": "Checking Azure CLI installation...",
   "try": {
     "import": "import subprocess",
     "run": "subprocess.run([\"az\", \"--version\"], check=True)"
   },
   "catch": {
     "print_statement": "Error: {e}. Please install Azure CLI."
   },
   "else": {
     "print_statement": "Azure CLI is installed and working."
   }
 },
 "authenticate_azure": {
   "print_statement": "Authenticating with Azure...",
   "credential": {
     "type": "AzureCliCredential",
     "instance": "credential = AzureCliCredential()"
   },
   "endpoint": {
     "value": "endpoint = AZURE_SEARCH_SERVICE_ENDPOINT"
   },
   "client": {
     "type": "SearchClient",
     "instance": "client = SearchClient(endpoint=endpoint, index_name=AZURE_SEARCH_INDEX, credential=credential)"
   }
 },
 "search_function": {
   "name": "search",
   "parameters": [
     {
       "name": "query",
       "type": "str"
     }
   ],
   "return_type": "List[Dict]",
   "docstring": "Searches the Azure Cognitive Search index for the given query. Returns a list of dictionaries containing search results.",
   "body": [
     {
       "type": "variable_assignment",
       "name": "payload",
       "value": {
         "type": "json.dumps",
         "data": {
           "search": "query",
           "vectorQueries": [
             {
               "kind": "text",
               "text": "query",
               "k": 5,
               "fields": "vector"
             }
           ],
           "queryType": "semantic",
           "semanticConfiguration": "AZURE_SEARCH_SEMANTIC_CONFIG",
           "captions": "extractive",
           "answers": "extractive|count-3",
           "queryLanguage": "en-US"
         }
       }
     },
     {
       "type": "variable_assignment",
       "name": "response",
       "value": {
         "type": "list",
         "data": "list(client.search(payload))"
       }
     },
     {
       "type": "variable_assignment",
       "name": "output",
       "value": []
     },
     {
       "type": "loop",
       "variable": "result",
       "iterator": "response",
       "body": [
         {
           "type": "method_call",
           "object": "result",
           "method": "pop",
           "arguments": [
             "\"titleVector\"",
             null
           ]
         },
         {
           "type": "method_call",
           "object": "result",
           "method": "pop",
           "arguments": [
             "\"contentVector\"",
             null
           ]
         },
         {
           "type": "method_call",
           "object": "output",
           "method": "append",
           "arguments": [
             "result"
           ]
         }
       ]
     },
     {
       "type": "return",
       "value": "output"
     }
   ]
 },
 "configure_assistant_agent": {
   "config_list": {
     "type": "autogen.config_list_from_json",
     "arguments": [
       "env_or_file=\"OAI_CONFIG_LIST\""
     ]
   },
   "gpt4_config": {
     "cache_seed": 42,
     "temperature": 0,
     "config_list": "config_list",
     "timeout": 120
   }
 },
 "create_agents": {
   "cog_search": {
     "type": "AssistantAgent",
     "name": "COGSearch",
     "system_message": "You are a helpful AI assistant. You can help with Azure Cognitive Search. Return 'TERMINATE' when the task is done.",
     "llm_config": "gpt4_config"
   },
   "user_proxy": {
     "type": "UserProxyAgent",
     "name": "User",
     "llm_config": false,
     "is_termination_msg": "lambda msg: msg.get(\"content\") is not None and \"TERMINATE\" in msg[\"content\"]",
     "human_input_mode": "NEVER"
   }
 },
 "register_search_tool": {
   "type": "register_function",
   "function": "search",
   "caller": "cog_search",
   "executor": "user_proxy",
   "name": "search",
   "description": "A tool for searching the Cognitive Search index"
 },
 "main_function": {
   "name": "main",
   "async": true,
   "body": [
     {
       "type": "context_manager",
       "manager": "autogen.Cache.disk()",
       "variable": "cache",
       "body": [
         {
           "type": "await",
           "target": "user_proxy.a_initiate_chat(cog_search, message=\"Search for 'What is Azure?' in the Cognitive Search index\", cache=cache)"
         }
       ]
     }
   ]
 },
 "run_main": {
   "if_main": {
     "body": [
       {
         "type": "import",
         "module": "asyncio"
       },
       {
         "type": "function_call",
         "function": "asyncio.run",
         "arguments": [
           "main()"
         ]
       }
     ]
   }
 }
}
